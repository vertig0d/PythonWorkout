{ 

"cells": [ 

  { 

   "cell_type": "markdown", 

   "metadata": {}, 

   "source": [ 

    "Ex 18: Final Line\n", 

    "write a function (get_final_line) that takes a filename as an argument. The function should return that file’s final line on the screen." 

   ] 

  }, 

  { 

   "cell_type": "code", 

   "execution_count": 2, 

   "metadata": {}, 

   "outputs": [], 

   "source": [ 

    "from io import StringIO\n", 

    "fake_line = StringIO(\"\"\"\n", 

    "this is line 1 of the fake line text\n", 

    "this is line 2 of the fake line text\n", 

    "this is line 3 of the fake line text\n", 

    "this is line 4 of the fake line text\n", 

    "\"\"\")\n", 

    "def get_final_line(pth):\n", 

    "    final_line = ''\n", 

    "    for current_line in fake_line:\n", 

    "        final_line = current_line\n", 

    "    return final_line\n" 

   ] 

  }, 

  { 

   "cell_type": "code", 

   "execution_count": 3, 

   "metadata": {}, 

   "outputs": [ 

    { 

     "name": "stdout", 

     "output_type": "stream", 

     "text": [ 

      "this is line 4 of the fake line text\n", 

      "\n" 

     ] 

    } 

   ], 

   "source": [ 

    "pth = 'etc/passwd'\n", 

    "print(get_final_line(pth))" 

   ] 

  }, 

  { 

   "cell_type": "markdown", 

   "metadata": {}, 

   "source": [ 

    "Ex 19: /etc/passwd to dict\n", 

    "Turn a file into a more complex data structure, such as a dict.\n", 

    "eg. nobody:*:-2:-2::0:0:Unprivileged User:/var/empty:/usr/bin/false\n", 

    "    root:*:0:0::0:0:System Administrator:/var/root:/bin/sh\n", 

    "    daemon:*:1:1::0:0:System Services:/var/root:/usr/bin/false\n", 

    "{nobody: -2, root: 0, daemon: 1}" 

   ] 

  }, 

  { 

   "cell_type": "code", 

   "execution_count": 19, 

   "metadata": {}, 

   "outputs": [ 

    { 

     "name": "stdout", 

     "output_type": "stream", 

     "text": [ 

      "{'nobody': -2, 'root': 0, 'daemon': 1, '_uucp': 4, '_taskgated': 13, '_networkd': 24, '_installassistant': 25, '_lp': 26, '_postfix': 27, '_scsd': 31, '_ces': 32, '_mcxalr': 54, '_appleevents': 55, '_geod': 56, '_serialnumberd': 58, '_devdocs': 59, '_sandbox': 60, '_mdnsresponder': 65, '_ard': 67, '_www': 70, '_eppc': 71, '_cvs': 72, '_svn': 73, '_mysql': 74, '_sshd': 75, '_qtss': 76, '_cyrus': 77, '_mailman': 78, '_appserver': 79, '_clamav': 82, '_amavisd': 83, '_jabber': 84, '_appowner': 87, '_windowserver': 88, '_spotlight': 89, '_tokend': 91, '_securityagent': 92, '_calendar': 93, '_teamsserver': 94, '_update_sharing': 95, '_installer': 96, '_atsserver': 97, '_ftp': 98, '_unknown': 99, '_softwareupdate': 200, '_coreaudiod': 202, '_screensaver': 203, '_locationd': 205, '_trustevaluationagent': 208, '_timezone': 210, '_lda': 211, '_cvmsroot': 212, '_usbmuxd': 213, '_dovecot': 214, '_dpaudio': 215, '_postgres': 216, '_krbtgt': 217, '_kadmin_admin': 218, '_kadmin_changepw': 219, '_devicemgr': 220, '_webauthserver': 221, '_netbios': 222, '_warmd': 224, '_dovenull': 227, '_netstatistics': 228, '_avbdeviced': 229, '_krb_krbtgt': 230, '_krb_kadmin': 231, '_krb_changepw': 232, '_krb_kerberos': 233, '_krb_anonymous': 234, '_assetcache': 235, '_coremediaiod': 236, '_xcsbuildagent': 237, '_xcscredserver': 238, '_launchservicesd': 239}\n" 

     ] 

    } 

   ], 

   "source": [ 

    "pth = \"D:\\pwd_workout.txt\"\n", 

    "dict_user = {}\n", 

    "with open(pth, 'r') as f:\n", 

    "    for l in f:\n", 

    "        if not l.startswith(('#', '\\n')):\n", 

    "            usr_name = l.split(':')[0]\n", 

    "            usr_id = l.split(':')[2]\n", 

    "            dict_user[usr_name] = int(usr_id)\n", 

    "print(dict_user)" 

   ] 

  }, 

  { 

   "cell_type": "markdown", 

   "metadata": {}, 

   "source": [ 

    "Ex 20: write a wordcount function that mimics the wc Unix command. The function will take a filename as input and will print four lines of output:\n", 

    "Number of characters (including whitespace)\n", 

    "Number of words (separated by whitespace)\n", 

    "Number of lines\n", 

    "Number of unique words (case sensitive, so “NO” is different from “no”)" 

   ] 

  }, 

  { 

   "cell_type": "code", 

   "execution_count": 62, 

   "metadata": {}, 

   "outputs": [ 

    { 

     "name": "stdout", 

     "output_type": "stream", 

     "text": [ 

      "file contains 11, lines.\n", 

      "file contains 165, characters.\n", 

      "file contains 33, words.\n", 

      "file contains 21, unique words.\n" 

     ] 

    } 

   ], 

   "source": [ 

    "from io import StringIO\n", 

    "fake_file = StringIO(\"\"\"This is a test file.\n", 

    "\n", 

    "It contains 28 words and 20 different words.\n", 

    "\n", 

    "It also contains 165 characters.\n", 

    "\n", 

    "It also contains 11 lines.\n", 

    "\n", 

    "It is also self-referential.\n", 

    "\n", 

    "Wow!\n", 

    "\"\"\")\n", 

    "\n", 

    "tmp = []\n", 

    "\n", 

    "def word_count():\n", 

    "    line_cnt = 0\n", 

    "    char_cnt = []\n", 

    "    word_cnt = 0\n", 

    "    word_uniq = []\n", 

    "    word_uniq_cnt = 0\n", 

    "    for l in fake_file:\n", 

    "        line_cnt += 1\n", 

    "        char_cnt += list(l)\n", 

    "        word_cnt += len(l.split(' '))\n", 

    "        word_uniq += l.split(' ')    \n", 

    "    \n", 

    "    word_uniq_cnt = len(set(word_uniq))\n", 

    "    print(f'file contains {line_cnt}, lines.')\n", 

    "    print(f'file contains {len(char_cnt)}, characters.')\n", 

    "    print(f'file contains {word_cnt}, words.')\n", 

    "    print(f'file contains {word_uniq_cnt}, unique words.')\n", 

    "\n", 

    "\n", 

    "word_count()" 

   ] 

  }, 

  { 

   "cell_type": "code", 

   "execution_count": 64, 

   "metadata": {}, 

   "outputs": [ 

    { 

     "data": { 

      "text/plain": [ 

       "{'NO', 'no'}" 

      ] 

     }, 

     "execution_count": 64, 

     "metadata": {}, 

     "output_type": "execute_result" 

    } 

   ], 

   "source": [ 

    "l = ['NO', 'no']\n", 

    "set(l)" 

   ] 

  }, 

  { 

   "cell_type": "markdown", 

   "metadata": {}, 

   "source": [ 

    "Ex 21. Longest Word Per File: \n", 

    "Write two functions. find_longest_word takes a filename as an argument and returns the longest word found in the file. \n", 

    "The second function, find_all_longest_words, takes a directory name and returns a dict in which the keys are filenames and the values are the longest words from each file." 

   ] 

  }, 

  { 

   "cell_type": "code", 

   "execution_count": 54, 

   "metadata": {}, 

   "outputs": [], 

   "source": [ 

    "import os\n", 

    "def find_longest_word(pth):\n", 

    "    lng_word = {}\n", 

    "    max_len = 0\n", 

    "    max_len_word = ''\n", 

    "    with open(pth, 'r') as f:\n", 

    "        for l in f:\n", 

    "            # print(l)\n", 

    "            for i in l.split():\n", 

    "                # print(i)\n", 

    "                if len(i) > max_len:\n", 

    "                    max_len = len(i)\n", 

    "                    max_len_word = i\n", 

    "    lng_word[max_len_word] = max_len\n", 

    "    return max_len_word\n", 

    "\n", 

    "def find_all_longest_words(dirc):\n", 

    "    lst = {}\n", 

    "    for f in os.listdir(dirc):\n", 

    "        long_wrd = find_longest_word(f\"{dirc}\\{f}\")\n", 

    "        lst[f] = long_wrd\n", 

    "    return lst         " 

   ] 

  }, 

  { 

   "cell_type": "code", 

   "execution_count": 56, 

   "metadata": {}, 

   "outputs": [ 

    { 

     "name": "stdout", 

     "output_type": "stream", 

     "text": [ 

      "{'ebook1.txt': 'â€˜how-would-we-do-it-if-we-set-about-itâ€™', 'ebook3.txt': 'www.gutenberg.org/license.'}\n" 

     ] 

    } 

   ], 

   "source": [ 

    "pth = \"D:\\etest\"\n", 

    "print(find_all_longest_words(pth))\n" 

   ] 

  }, 

  { 

   "cell_type": "code", 

   "execution_count": 3, 

   "metadata": {}, 

   "outputs": [ 

    { 

     "name": "stdout", 

     "output_type": "stream", 

     "text": [ 

      "['D:\\\\test.csv', 'D:\\\\test1.csv']\n" 

     ] 

    } 

   ], 

   "source": [ 

    "#Glob helps to find files\n", 

    "import glob\n", 

    "filenames = glob.glob(\"D:\\*.csv\")\n", 

    "print(filenames)" 

   ] 

  }, 

  { 

   "cell_type": "code", 

   "execution_count": 5, 

   "metadata": {}, 

   "outputs": [], 

   "source": [ 

    "#CSV \n", 

    "import csv \n", 

    "with open(\"D:\\etest\\stuff.csv\", 'w') as f:\n", 

    "    o = csv.writer(f)\n", 

    "    o.writerow(range(5))\n", 

    "    o.writerow(['a','b','c','d','e'])" 

   ] 

  } 

], 

"metadata": { 

  "interpreter": { 

   "hash": "25f03f59e56b5aa48b83b000b9bfd88bfd22e6dd6e80bcee16a399d75bb355a0" 

  }, 

  "kernelspec": { 

   "display_name": "Python 3.11.1 64-bit", 

   "language": "python", 

   "name": "python3" 

  }, 

  "language_info": { 

   "codemirror_mode": { 

    "name": "ipython", 

    "version": 3 

   }, 

   "file_extension": ".py", 

   "mimetype": "text/x-python", 

   "name": "python", 

   "nbconvert_exporter": "python", 

   "pygments_lexer": "ipython3", 

   "version": "3.11.1" 

  }, 

  "orig_nbformat": 4 

}, 

"nbformat": 4, 

"nbformat_minor": 2 

} 

 