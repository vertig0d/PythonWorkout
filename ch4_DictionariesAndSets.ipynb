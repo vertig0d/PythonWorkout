{ 

"cells": [ 

  { 

   "cell_type": "code", 

   "execution_count": 8, 

   "metadata": {}, 

   "outputs": [ 

    { 

     "name": "stdout", 

     "output_type": "stream", 

     "text": [ 

      "{'a': 11, 'b': 1}\n" 

     ] 

    } 

   ], 

   "source": [ 

    "# r = {}\n", 

    "r['a'] = 11\n", 

    "print(r)" 

   ] 

  }, 

  { 

   "cell_type": "code", 

   "execution_count": 14, 

   "metadata": {}, 

   "outputs": [ 

    { 

     "data": { 

      "text/plain": [ 

       "22" 

      ] 

     }, 

     "execution_count": 14, 

     "metadata": {}, 

     "output_type": "execute_result" 

    } 

   ], 

   "source": [ 

    "r.get('c', 22)" 

   ] 

  }, 

  { 

   "cell_type": "markdown", 

   "metadata": {}, 

   "source": [ 

    "EX 15 Rainfall\n" 

   ] 

  }, 

  { 

   "cell_type": "code", 

   "execution_count": 1, 

   "metadata": {}, 

   "outputs": [], 

   "source": [ 

    "#SOLUTION\n", 

    "def baarish():\n", 

    "    rain = {}\n", 

    "    while True:\n", 

    "        city_name = input('Enter name of the city.').strip()        \n", 

    "        if city_name == '':\n", 

    "            print(rain)\n", 

    "            break\n", 

    "        amt_rain = input('Enter the amount it rained in mm.').strip()\n", 

    "        rain[city_name] = rain.get(city_name, 0) + int(amt_rain)\n", 

    "\n", 

    "baarish()" 

   ] 

  }, 

  { 

   "cell_type": "code", 

   "execution_count": 19, 

   "metadata": {}, 

   "outputs": [ 

    { 

     "name": "stdout", 

     "output_type": "stream", 

     "text": [ 

      "{'delhi': 31, 'chennai': 33}\n" 

     ] 

    } 

   ], 

   "source": [ 

    "baarish()" 

   ] 

  }, 

  { 

   "cell_type": "markdown", 

   "metadata": {}, 

   "source": [ 

    "Ex 16. Dictionary Difference\n", 

    "d1 = {'a':1, 'b':2, 'c':3}\n", 

    "d2 = {'a':1, 'b':2, 'c':4}\n", 

    "expected: d1 & d1 -> {}\n", 

    "expected: d1 & d2 -> {'c': [3,4]}\n", 

    "d3 = {'a':1, 'b':2, 'd':3}\n", 

    "d4 = {'a':1, 'b':2, 'c':4}\n", 

    "expected: d3 & d4 -> {'c': [None, 4], 'd': [3, None]}\n", 

    "expected: d1 & d5 -> {'c': [3, None], 'd': [None ,4]}" 

   ] 

  }, 

  { 

   "cell_type": "code", 

   "execution_count": 7, 

   "metadata": {}, 

   "outputs": [ 

    { 

     "name": "stdout", 

     "output_type": "stream", 

     "text": [ 

      "{'d': [3, None], 'c': [None, 4]}\n" 

     ] 

    } 

   ], 

   "source": [ 

    "d1 = {'a':1, 'b':2, 'c':3}\n", 

    "d2 = {'a':1, 'b':2, 'c':4}\n", 

    "d3 = {'a':1, 'b':2, 'd':3}\n", 

    "d4 = {'a':1, 'b':2, 'c':4}\n", 

    "\n", 

    "def dictdiff(a,b):\n", 

    "    all_keys = a.keys() | b.keys()\n", 

    "    output = {}\n", 

    "    for i in all_keys:\n", 

    "        if a.get(i) != b.get(i):\n", 

    "            output[i] = [a.get(i), b.get(i)]\n", 

    "    return output\n", 

    "\n", 

    "print(dictdiff(d3,d4))" 

   ] 

  }, 

  { 

   "cell_type": "code", 

   "execution_count": 7, 

   "metadata": {}, 

   "outputs": [], 

   "source": [ 

    "numbers = [1,2,3,1,1,2,3,4]\n", 

    "uniq = {*numbers}\n", 

    "# uniq2 = {numbers} gives TypeError: unhashable type: list" 

   ] 

  }, 

  { 

   "cell_type": "code", 

   "execution_count": 8, 

   "metadata": {}, 

   "outputs": [ 

    { 

     "name": "stdout", 

     "output_type": "stream", 

     "text": [ 

      "{1, 2, 3, 4}\n" 

     ] 

    } 

   ], 

   "source": [ 

    "print(uniq)" 

   ] 

  }, 

  { 

   "cell_type": "code", 

   "execution_count": null, 

   "metadata": {}, 

   "outputs": [], 

   "source": [] 

  } 

], 

"metadata": { 

  "interpreter": { 

   "hash": "25f03f59e56b5aa48b83b000b9bfd88bfd22e6dd6e80bcee16a399d75bb355a0" 

  }, 

  "kernelspec": { 

   "display_name": "Python 3.11.1 64-bit", 

   "language": "python", 

   "name": "python3" 

  }, 

  "language_info": { 

   "codemirror_mode": { 

    "name": "ipython", 

    "version": 3 

   }, 

   "file_extension": ".py", 

   "mimetype": "text/x-python", 

   "name": "python", 

   "nbconvert_exporter": "python", 

   "pygments_lexer": "ipython3", 

   "version": "3.11.1" 

  }, 

  "orig_nbformat": 4 

}, 

"nbformat": 4, 

"nbformat_minor": 2 

} 

 