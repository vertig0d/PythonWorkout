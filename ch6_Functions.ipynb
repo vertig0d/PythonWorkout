{ 

"cells": [ 

  { 

   "cell_type": "markdown", 

   "metadata": {}, 

   "source": [ 

    "Ex 22. Reading and Writing CSV\n", 

    "Write a function, myxml, that allows you to create simple XML output. The output from the function will always be a string. \n", 

    "myxml('foo') -> <foo></foo>\n", 

    "myxml('foo', 'bar') -> <foo>bar</foo>\n", 

    "myxml('foo', 'bar', a=1, b=2, c=3) -> <foo a=\"1\" b=\"2\" c=\"3\">bar</foo>" 

   ] 

  }, 

  { 

   "cell_type": "code", 

   "execution_count": 12, 

   "metadata": {}, 

   "outputs": [], 

   "source": [ 

    "def myxml(tagname, val = '', **kval):\n", 

    "    t = ''.join([f' {k}=\"{v}\"' for k,v in kval.items()])\n", 

    "    return f\"<{tagname}{t}>{val}<\\{tagname}>\"" 

   ] 

  }, 

  { 

   "cell_type": "code", 

   "execution_count": 14, 

   "metadata": {}, 

   "outputs": [ 

    { 

     "name": "stdout", 

     "output_type": "stream", 

     "text": [ 

      "<foo a=\"1\" b=\"2\" c=\"3\">bar<\\foo>\n" 

     ] 

    } 

   ], 

   "source": [ 

    "print(myxml(\"foo\", \"bar\", a=1, b=2, c=3))" 

   ] 

  }, 

  { 

   "cell_type": "code", 

   "execution_count": 15, 

   "metadata": {}, 

   "outputs": [], 

   "source": [ 

    "def foo(x):\n", 

    "    def bar(y):\n", 

    "        return x-y\n", 

    "    return bar" 

   ] 

  }, 

  { 

   "cell_type": "code", 

   "execution_count": 17, 

   "metadata": {}, 

   "outputs": [ 

    { 

     "name": "stdout", 

     "output_type": "stream", 

     "text": [ 

      "-1\n" 

     ] 

    } 

   ], 

   "source": [ 

    "f = foo(3)\n", 

    "print(f(4))\n", 

    "#so this is my understanding. first time you call the fnc foo and assign it to f, you provide the value of x. the fnc returns the inner fnc bar. \n", 

    "#the second line where you call fnc f, it has inner fnc as the value so inner fnc gets called. this is when the value of y is passed.\n", 

    "#thus we get desired output in line 2" 

   ] 

  }, 

  { 

   "cell_type": "code", 

   "execution_count": null, 

   "metadata": {}, 

   "outputs": [], 

   "source": [] 

  } 

], 

"metadata": { 

  "interpreter": { 

   "hash": "25f03f59e56b5aa48b83b000b9bfd88bfd22e6dd6e80bcee16a399d75bb355a0" 

  }, 

  "kernelspec": { 

   "display_name": "Python 3.11.1 64-bit", 

   "language": "python", 

   "name": "python3" 

  }, 

  "language_info": { 

   "codemirror_mode": { 

    "name": "ipython", 

    "version": 3 

   }, 

   "file_extension": ".py", 

   "mimetype": "text/x-python", 

   "name": "python", 

   "nbconvert_exporter": "python", 

   "pygments_lexer": "ipython3", 

   "version": "3.11.1" 

  }, 

  "orig_nbformat": 4 

}, 

"nbformat": 4, 

"nbformat_minor": 2 

} 

 