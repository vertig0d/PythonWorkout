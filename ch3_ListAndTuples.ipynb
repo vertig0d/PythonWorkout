{ 

"cells": [ 

  { 

   "cell_type": "code", 

   "execution_count": 1, 

   "metadata": {}, 

   "outputs": [], 

   "source": [ 

    "import operator as op\n", 

    "final = op.itemgetter(-1)" 

   ] 

  }, 

  { 

   "cell_type": "code", 

   "execution_count": 2, 

   "metadata": {}, 

   "outputs": [ 

    { 

     "data": { 

      "text/plain": [ 

       "'d'" 

      ] 

     }, 

     "execution_count": 2, 

     "metadata": {}, 

     "output_type": "execute_result" 

    } 

   ], 

   "source": [ 

    "final('abcd')" 

   ] 

  }, 

  { 

   "cell_type": "code", 

   "execution_count": 3, 

   "metadata": {}, 

   "outputs": [ 

    { 

     "name": "stdout", 

     "output_type": "stream", 

     "text": [ 

      "Counter({'a': 2, 'b': 2, 'c': 2, 'd': 1})\n" 

     ] 

    } 

   ], 

   "source": [ 

    "import collections\n", 

    "c = collections.Counter('abcdabc')\n", 

    "print(c)" 

   ] 

  }, 

  { 

   "cell_type": "code", 

   "execution_count": 6, 

   "metadata": {}, 

   "outputs": [ 

    { 

     "name": "stdout", 

     "output_type": "stream", 

     "text": [ 

      "{'a': 2, 'b': 2, 'c': 2, 'd': 1}\n" 

     ] 

    } 

   ], 

   "source": [ 

    "d = dict(c)\n", 

    "print(d)" 

   ] 

  }, 

  { 

   "cell_type": "markdown", 

   "metadata": {}, 

   "source": [ 

    "Ex 9 First Last\n", 

    "firstlast('abc') ; firstlast([1,2,3,4])\n", 

    "expected - ac    ; [1,4]" 

   ] 

  }, 

  { 

   "cell_type": "code", 

   "execution_count": 6, 

   "metadata": {}, 

   "outputs": [], 

   "source": [ 

    "def firstlast(value):\n", 

    "    return (value[:1] + value[-1:])" 

   ] 

  }, 

  { 

   "cell_type": "code", 

   "execution_count": 9, 

   "metadata": {}, 

   "outputs": [ 

    { 

     "data": { 

      "text/plain": [ 

       "[1, 4]" 

      ] 

     }, 

     "execution_count": 9, 

     "metadata": {}, 

     "output_type": "execute_result" 

    } 

   ], 

   "source": [ 

    "firstlast('abc')\n", 

    "firstlast([1,2,3,4])" 

   ] 

  }, 

  { 

   "cell_type": "code", 

   "execution_count": 10, 

   "metadata": {}, 

   "outputs": [ 

    { 

     "name": "stdout", 

     "output_type": "stream", 

     "text": [ 

      "len = 0, size = 56\n", 

      "len = 1, size = 88\n", 

      "len = 2, size = 88\n", 

      "len = 3, size = 88\n", 

      "len = 4, size = 88\n", 

      "len = 5, size = 120\n", 

      "len = 6, size = 120\n", 

      "len = 7, size = 120\n", 

      "len = 8, size = 120\n", 

      "len = 9, size = 184\n", 

      "len = 10, size = 184\n", 

      "len = 11, size = 184\n", 

      "len = 12, size = 184\n", 

      "len = 13, size = 184\n", 

      "len = 14, size = 184\n", 

      "len = 15, size = 184\n", 

      "len = 16, size = 184\n", 

      "len = 17, size = 248\n", 

      "len = 18, size = 248\n", 

      "len = 19, size = 248\n", 

      "len = 20, size = 248\n", 

      "len = 21, size = 248\n", 

      "len = 22, size = 248\n", 

      "len = 23, size = 248\n", 

      "len = 24, size = 248\n" 

     ] 

    } 

   ], 

   "source": [ 

    "import sys\n", 

    "temp = []\n", 

    "for i in range(25):\n", 

    "    l = len(temp)\n", 

    "    s = sys.getsizeof(temp)\n", 

    "    print(f\"len = {l}, size = {s}\")\n", 

    "    temp.append(i)" 

   ] 

  }, 

  { 

   "cell_type": "markdown", 

   "metadata": {}, 

   "source": [ 

    "Ex 10 Summing Anything\n", 

    "mysum('abc', 'def) ; mysum([1,2,3], [4,5,6])\n", 

    "expected 'abcdef'  ; [1,2,3,4,5,6] " 

   ] 

  }, 

  { 

   "cell_type": "code", 

   "execution_count": 20, 

   "metadata": {}, 

   "outputs": [], 

   "source": [ 

    "def mysum(*items):\n", 

    "    if not items:\n", 

    "        return items\n", 

    "    out = items[0]\n", 

    "    for i in items[1:]:\n", 

    "        out += i\n", 

    "    return out" 

   ] 

  }, 

  { 

   "cell_type": "code", 

   "execution_count": 23, 

   "metadata": {}, 

   "outputs": [ 

    { 

     "name": "stdout", 

     "output_type": "stream", 

     "text": [ 

      "6\n" 

     ] 

    } 

   ], 

   "source": [ 

    "# print(mysum([1,2,3],[4,5,6]))\n", 

    "print(mysum(1,2,3))" 

   ] 

  }, 

  { 

   "cell_type": "markdown", 

   "metadata": {}, 

   "source": [ 

    "Ex 11 Alphabetizing Names\n", 

    "PEOPLE = [{'first':'Reuven', 'last':'Lerner',\n", 

    "    'email':'reuven@lerner.co.il'},\n", 

    " {'first':'Donald', 'last':'Trump',\n", 

    "    'email':'president@whitehouse.gov'},\n", 

    " {'first':'Vladimir', 'last':'Putin',\n", 

    "    'email':'president@kremvax.ru'}\n", 

    " ]\n" 

   ] 

  }, 

  { 

   "cell_type": "code", 

   "execution_count": 30, 

   "metadata": {}, 

   "outputs": [ 

    { 

     "name": "stdout", 

     "output_type": "stream", 

     "text": [ 

      "[{'first': 'Reuven', 'last': 'Lerner', 'email': 'reuven@lerner.co.il'}, {'first': 'Vladimir', 'last': 'Putin', 'email': 'president@kremvax.ru'}, {'first': 'Donald', 'last': 'Trump', 'email': 'president@whitehouse.gov'}]\n" 

     ] 

    } 

   ], 

   "source": [ 

    "import operator as op\n", 

    "def pp(value):\n", 

    "    return sorted(value, key = op.itemgetter('last','first'))\n", 

    "\n", 

    "p = [{'first':'Reuven', 'last':'Lerner',\n", 

    "    'email':'reuven@lerner.co.il'},\n", 

    " {'first':'Donald', 'last':'Trump',\n", 

    "    'email':'president@whitehouse.gov'},\n", 

    " {'first':'Vladimir', 'last':'Putin',\n", 

    "    'email':'president@kremvax.ru'}\n", 

    " ]\n", 

    "\n", 

    "print(pp(p))" 

   ] 

  }, 

  { 

   "cell_type": "code", 

   "execution_count": 5, 

   "metadata": {}, 

   "outputs": [ 

    { 

     "name": "stdout", 

     "output_type": "stream", 

     "text": [ 

      "('Ganesh', 35)\n" 

     ] 

    } 

   ], 

   "source": [ 

    "import operator as op\n", 

    "d = {'name': 'Ganesh', 'age': 35, 'sex': 'M', 'doy': 1989}\n", 

    "x = (10,20,30,40,50,60,70,80,90)\n", 

    "print_2_4 = op.itemgetter(1,3)\n", 

    "print_2_4 = op.itemgetter('name', 'age')\n", 

    "print(print_2_4(d)) " 

   ] 

  }, 

  { 

   "cell_type": "code", 

   "execution_count": 7, 

   "metadata": {}, 

   "outputs": [ 

    { 

     "name": "stdout", 

     "output_type": "stream", 

     "text": [ 

      "hi! Karthik\n" 

     ] 

    } 

   ], 

   "source": [ 

    "def hi(value):\n", 

    "    return f'hi! {value}!'\n", 

    "def karthik_calling_karthik(func):\n", 

    "    return func('Karthik')\n", 

    "\n", 

    "print(karthik_calling_karthik(hi))" 

   ] 

  }, 

  { 

   "cell_type": "code", 

   "execution_count": 8, 

   "metadata": {}, 

   "outputs": [ 

    { 

     "name": "stdout", 

     "output_type": "stream", 

     "text": [ 

      "Hello, Friend\n" 

     ] 

    } 

   ], 

   "source": [ 

    "#using lambda as disposable function\n", 

    "def funcs(f):\n", 

    "    return f('Friend!')\n", 

    "print(funcs(lambda x: f'Hello, {x}'))" 

   ] 

  }, 

  { 

   "cell_type": "markdown", 

   "metadata": {}, 

   "source": [ 

    "Ex 12. Word With Most Repeated Letters\n", 

    "words = ['this', 'is', 'an', 'elementary', 'test', 'example']\n", 

    "Expected: elementary" 

   ] 

  }, 

  { 

   "cell_type": "code", 

   "execution_count": 1, 

   "metadata": {}, 

   "outputs": [ 

    { 

     "name": "stdout", 

     "output_type": "stream", 

     "text": [ 

      "{'l', 't', 'e'}\n" 

     ] 

    } 

   ], 

   "source": [ 

    "print(set('tele'))" 

   ] 

  }, 

  { 

   "cell_type": "code", 

   "execution_count": 15, 

   "metadata": {}, 

   "outputs": [ 

    { 

     "name": "stdout", 

     "output_type": "stream", 

     "text": [ 

      "elementary\n" 

     ] 

    } 

   ], 

   "source": [ 

    "#APPROACH 1: Without using dict\n", 

    "def letter_counter(word):\n", 

    "    letter_count = 0\n", 

    "    for i in set(word):\n", 

    "        cnt = word.count(i)\n", 

    "        if cnt > letter_count:\n", 

    "            letter_count = cnt\n", 

    "    return letter_count\n", 

    "\n", 

    "def max_rep_word(words):\n", 

    "    max_letter_word = ''\n", 

    "    max_letter_cnt = 0\n", 

    "    for word in words:\n", 

    "        cnt = letter_counter(word)\n", 

    "        if cnt > max_letter_cnt:\n", 

    "            max_letter_cnt = cnt\n", 

    "            max_letter_word = word\n", 

    "    return max_letter_word\n", 

    "\n", 

    "words = ['this', 'is', 'an', 'elementary', 'test', 'example']\n", 

    "print(max_rep_word(words))" 

   ] 

  }, 

  { 

   "cell_type": "code", 

   "execution_count": 21, 

   "metadata": {}, 

   "outputs": [ 

    { 

     "name": "stdout", 

     "output_type": "stream", 

     "text": [ 

      "4\n" 

     ] 

    } 

   ], 

   "source": [ 

    "from collections import Counter\n", 

    "t = Counter('aabbbbcccdededeffg')\n", 

    "print(t.most_common(1)[0][1])" 

   ] 

  }, 

  { 

   "cell_type": "code", 

   "execution_count": 24, 

   "metadata": {}, 

   "outputs": [ 

    { 

     "name": "stdout", 

     "output_type": "stream", 

     "text": [ 

      "elementary\n" 

     ] 

    } 

   ], 

   "source": [ 

    "#APPROACH 2: Using dict\n", 

    "def max_len_letter(word):\n", 

    "    return Counter(word).most_common(1)[0][1]\n", 

    "\n", 

    "def max_len_word(words):\n", 

    "    max_len = 0\n", 

    "    max_wrd = ''\n", 

    "    for word in words:\n", 

    "        word_max_len = max_len_letter(word)\n", 

    "        if word_max_len > max_len:\n", 

    "            max_len = word_max_len\n", 

    "            max_wrd = word\n", 

    "    return max_wrd\n", 

    "words = ['this', 'is', 'an', 'elementary', 'test', 'example']\n", 

    "print(max_len_word(words))" 

   ] 

  }, 

  { 

   "cell_type": "code", 

   "execution_count": 13, 

   "metadata": {}, 

   "outputs": [ 

    { 

     "name": "stdout", 

     "output_type": "stream", 

     "text": [ 

      "l : 1\n", 

      "e : 3\n", 

      "3\n" 

     ] 

    } 

   ], 

   "source": [] 

  } 

], 

"metadata": { 

  "interpreter": { 

   "hash": "25f03f59e56b5aa48b83b000b9bfd88bfd22e6dd6e80bcee16a399d75bb355a0" 

  }, 

  "kernelspec": { 

   "display_name": "Python 3.11.1 64-bit", 

   "language": "python", 

   "name": "python3" 

  }, 

  "language_info": { 

   "codemirror_mode": { 

    "name": "ipython", 

    "version": 3 

   }, 

   "file_extension": ".py", 

   "mimetype": "text/x-python", 

   "name": "python", 

   "nbconvert_exporter": "python", 

   "pygments_lexer": "ipython3", 

   "version": "3.11.1" 

  }, 

  "orig_nbformat": 4 

}, 

"nbformat": 4, 

"nbformat_minor": 2 

} 

 