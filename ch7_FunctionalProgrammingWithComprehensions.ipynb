{
  "cells": [
    {
      "cell_type": "markdown",
      "source": [
        "## Chapter 7 Functional Programming With Comprehensions"
      ],
      "metadata": {
        "id": "Jmnw1SDZgFgS"
      }
    },
    {
      "cell_type": "code",
      "execution_count": 1,
      "metadata": {
        "id": "QL6NWOcFgB0Z",
        "outputId": "db93e469-1b12-4960-a26c-5a33a0f328d4",
        "colab": {
          "base_uri": "https://localhost:8080/"
        }
      },
      "outputs": [
        {
          "output_type": "execute_result",
          "data": {
            "text/plain": [
              "[4, 7, 5, 13]"
            ]
          },
          "metadata": {},
          "execution_count": 1
        }
      ],
      "source": [
        "s = \"Join Numbers Using Comprehension\"\n",
        "t = [len(one_word) for one_word in s.split()]\n",
        "t"
      ]
    },
    {
      "cell_type": "markdown",
      "metadata": {
        "id": "KIwzVYqYgB0Z"
      },
      "source": [
        "Ex28. Join Numbers Using Comprehension"
      ]
    },
    {
      "cell_type": "code",
      "execution_count": null,
      "metadata": {
        "id": "z6AGKwJbgB0a",
        "outputId": "395d521b-7636-4fda-c387-539ff16ed2a1"
      },
      "outputs": [
        {
          "data": {
            "text/plain": [
              "'0,1,2,3,4,5,6,7,8,9,10,11,12,13,14'"
            ]
          },
          "execution_count": 6,
          "metadata": {},
          "output_type": "execute_result"
        }
      ],
      "source": [
        "','.join(str(i) for i in range(15))"
      ]
    },
    {
      "cell_type": "code",
      "execution_count": null,
      "metadata": {
        "id": "X5vgTfbLgB0a",
        "outputId": "99f1fbc3-a904-4ed2-d8d4-59272729a57c"
      },
      "outputs": [
        {
          "data": {
            "text/plain": [
              "[0, 4, 16, 36, 64, 100, 144, 196]"
            ]
          },
          "execution_count": 8,
          "metadata": {},
          "output_type": "execute_result"
        }
      ],
      "source": [
        "t = [x*x for x in range(0,15) if x%2 == 0]\n",
        "t"
      ]
    },
    {
      "cell_type": "code",
      "execution_count": null,
      "metadata": {
        "id": "jvgfZeWIgB0b",
        "outputId": "5e777d95-70de-4694-ae23-9dbc915f9a9f"
      },
      "outputs": [
        {
          "data": {
            "text/plain": [
              "4"
            ]
          },
          "execution_count": 6,
          "metadata": {},
          "output_type": "execute_result"
        }
      ],
      "source": [
        "x = [[1,1],[2,3,4],[4],[4,5]]\n",
        "len(x)"
      ]
    },
    {
      "cell_type": "code",
      "execution_count": null,
      "metadata": {
        "id": "C-psIJspgB0b",
        "outputId": "e253feb6-f785-41be-bf52-217201176f7d"
      },
      "outputs": [
        {
          "name": "stdout",
          "output_type": "stream",
          "text": [
            "24\n"
          ]
        }
      ],
      "source": [
        "wrds = \"just some random words here.\".split()\n",
        "t = map(len, wrds)\n",
        "print(sum(t))"
      ]
    },
    {
      "cell_type": "markdown",
      "metadata": {
        "id": "WOKCdTLWgB0b"
      },
      "source": [
        "all_places = {'USA': ['Philadelphia', 'New York', 'Cleveland', 'San Jose', 'San Francisco'],\n",
        "     'China': ['Beijing', 'Shanghai', 'Guangzhou'],\n",
        "     'UK': ['London'],\n",
        "     'India': ['Hyderabad']}\n",
        "get only the list of cities"
      ]
    },
    {
      "cell_type": "code",
      "execution_count": null,
      "metadata": {
        "id": "_-WgBnrIgB0c",
        "outputId": "e400f57f-b419-4bd1-f2b1-2cc15068c993"
      },
      "outputs": [
        {
          "name": "stdout",
          "output_type": "stream",
          "text": [
            "Philadelphia New York Cleveland San Jose San Francisco Beijing Shanghai Guangzhou London Hyderabad\n"
          ]
        }
      ],
      "source": [
        "all_places = {'USA': ['Philadelphia', 'New York', 'Cleveland', 'San Jose', 'San Francisco'],\n",
        "     'China': ['Beijing', 'Shanghai', 'Guangzhou'],\n",
        "     'UK': ['London'],\n",
        "     'India': ['Hyderabad']}\n",
        "t = [one_city for country, city in all_places.items() for one_city in city]\n",
        "print(*t)"
      ]
    },
    {
      "cell_type": "code",
      "execution_count": null,
      "metadata": {
        "id": "n-yij67PgB0c",
        "outputId": "dc515561-d798-41f3-9406-0d937835c914"
      },
      "outputs": [
        {
          "data": {
            "text/plain": [
              "[('USA', 'Philadelphia'),\n",
              " ('USA', 'New York'),\n",
              " ('USA', 'Cleveland'),\n",
              " ('USA', 'San Jose'),\n",
              " ('USA', 'San Francisco'),\n",
              " ('China', 'Beijing'),\n",
              " ('China', 'Shanghai'),\n",
              " ('China', 'Guangzhou'),\n",
              " ('UK', 'London'),\n",
              " ('India', 'Hyderabad')]"
            ]
          },
          "execution_count": 4,
          "metadata": {},
          "output_type": "execute_result"
        }
      ],
      "source": [
        "s = [(country, one_city) for country, city in all_places.items() for one_city in city]\n",
        "s"
      ]
    },
    {
      "cell_type": "code",
      "execution_count": null,
      "metadata": {
        "id": "iMMTgVN3gB0c",
        "outputId": "bcef4163-498f-47ad-9a63-7f7cf8f9a13d"
      },
      "outputs": [
        {
          "data": {
            "text/plain": [
              "333333328333333350000000"
            ]
          },
          "execution_count": 6,
          "metadata": {},
          "output_type": "execute_result"
        }
      ],
      "source": [
        "sum([x*x for x in range(100000000)])"
      ]
    },
    {
      "cell_type": "code",
      "execution_count": null,
      "metadata": {
        "id": "3ThOnNxcgB0d",
        "outputId": "65fac941-9466-4730-a002-842538f272d9"
      },
      "outputs": [
        {
          "data": {
            "text/plain": [
              "333333328333333350000000"
            ]
          },
          "execution_count": 7,
          "metadata": {},
          "output_type": "execute_result"
        }
      ],
      "source": [
        "sum((x*x for x in range(100000000)))"
      ]
    },
    {
      "cell_type": "markdown",
      "metadata": {
        "id": "ZXpknCoRgB0d"
      },
      "source": [
        "### Comprehensions: usually of the format-\n",
        "Expression <br>\n",
        "Iteration <br>\n",
        "Filter"
      ]
    },
    {
      "cell_type": "code",
      "execution_count": null,
      "metadata": {
        "id": "2ild3r0jgB0d",
        "outputId": "d3274800-64a7-41a9-b3fa-4f9ceb491afa"
      },
      "outputs": [
        {
          "data": {
            "text/plain": [
              "[(1, 0), (1, 1), (1, 2), (1, 3), (1, 4)]"
            ]
          },
          "execution_count": 1,
          "metadata": {},
          "output_type": "execute_result"
        }
      ],
      "source": [
        "[(x,y)\n",
        "for x in range(5)\n",
        "if x%2\n",
        "for y in range(5)\n",
        "if x%3]"
      ]
    },
    {
      "cell_type": "code",
      "execution_count": null,
      "metadata": {
        "id": "hUO40MPGgB0d",
        "outputId": "76d7a7a0-98ef-403c-8097-15b9ce478e8d"
      },
      "outputs": [
        {
          "name": "stdout",
          "output_type": "stream",
          "text": [
            "1\n",
            "3\n",
            "5\n",
            "7\n",
            "9\n"
          ]
        }
      ],
      "source": [
        "for x in range(10):\n",
        "    if x%2:\n",
        "        print(x)"
      ]
    },
    {
      "cell_type": "markdown",
      "metadata": {
        "id": "ier4QAkrgB0d"
      },
      "source": [
        "### ex29 Adding Numbers"
      ]
    },
    {
      "cell_type": "code",
      "execution_count": null,
      "metadata": {
        "id": "AGFLeHqHgB0d",
        "outputId": "56f3e5d8-2ca9-42da-e3e7-dd78bb11f2cb"
      },
      "outputs": [
        {
          "data": {
            "text/plain": [
              "100"
            ]
          },
          "execution_count": 4,
          "metadata": {},
          "output_type": "execute_result"
        }
      ],
      "source": [
        "x = '10 abc 20 de44 30 55fg 40'.split()\n",
        "sum(int(y) for y in x if y.isdigit())"
      ]
    },
    {
      "cell_type": "markdown",
      "metadata": {
        "id": "dyRpfv8SgB0d"
      },
      "source": [
        "### ex30 Flatten a list"
      ]
    },
    {
      "cell_type": "code",
      "execution_count": null,
      "metadata": {
        "id": "CHQHp_AIgB0d",
        "outputId": "84f5c0b1-fb70-430c-8c39-0316aab0b0f4"
      },
      "outputs": [
        {
          "data": {
            "text/plain": [
              "[1, 2, 3, 4]"
            ]
          },
          "execution_count": 1,
          "metadata": {},
          "output_type": "execute_result"
        }
      ],
      "source": [
        "lst = [[1,2], [3,4]]\n",
        "[one_element for sub_lst in lst for one_element in sub_lst]"
      ]
    },
    {
      "cell_type": "markdown",
      "metadata": {
        "id": "3LTfSUjbgB0e"
      },
      "source": [
        "### ex32 Flip a Dict"
      ]
    },
    {
      "cell_type": "code",
      "execution_count": null,
      "metadata": {
        "id": "ItRVE869gB0e",
        "outputId": "f668a174-bd57-440f-82d4-0e7071ae233f"
      },
      "outputs": [
        {
          "data": {
            "text/plain": [
              "{1: 'a', 2: 'b', 3: 'c'}"
            ]
          },
          "execution_count": 4,
          "metadata": {},
          "output_type": "execute_result"
        }
      ],
      "source": [
        "d = {'a':1, 'b':2, 'c':3}\n",
        "#method 1\n",
        "{j:i for i,j in d.items()}"
      ]
    },
    {
      "cell_type": "code",
      "execution_count": null,
      "metadata": {
        "id": "bsBUmaB0gB0e",
        "outputId": "52bc6432-991f-4b26-b30b-54f392b6cfec"
      },
      "outputs": [
        {
          "data": {
            "text/plain": [
              "{1: 'a', 2: 'b', 3: 'c'}"
            ]
          },
          "execution_count": 5,
          "metadata": {},
          "output_type": "execute_result"
        }
      ],
      "source": [
        "# method 2\n",
        "{d[i]:i for i in d}"
      ]
    },
    {
      "cell_type": "markdown",
      "metadata": {
        "id": "j1VY4JzNgB0e"
      },
      "source": [
        "### ex33 Transform Values\n",
        "This exercise combines showing how you can receive a function as a function argument, and how comprehensions can help us to elegantly solve a wide variety of problems.\n",
        "Basically we pass a lambda function with data on which the function needs to be applied to another function.\n",
        "Normally the purpose of a function is to do same set of tasks on similar set of data, but what if we need to implement different set of tasks on similar set of data."
      ]
    },
    {
      "cell_type": "code",
      "execution_count": null,
      "metadata": {
        "id": "yvOnghNSgB0e",
        "outputId": "3cad412e-3c77-4edd-bc87-5207171ed723"
      },
      "outputs": [
        {
          "name": "stdout",
          "output_type": "stream",
          "text": [
            "{'a': 1, 'b': 4, 'c': 9}\n"
          ]
        }
      ],
      "source": [
        "# we use the same dict from previous exercise.\n",
        "def transform_val(fun, d):\n",
        "    return {k: fun(v) for k,v in d.items()}\n",
        "\n",
        "print(transform_val(lambda x: x*x, d))"
      ]
    },
    {
      "cell_type": "code",
      "execution_count": null,
      "metadata": {
        "id": "tczx0ClggB0e",
        "outputId": "59c730fd-4a38-4bfe-dde6-e499f2fd9f56"
      },
      "outputs": [
        {
          "name": "stdout",
          "output_type": "stream",
          "text": [
            "{'a': 11, 'b': 12, 'c': 13}\n"
          ]
        }
      ],
      "source": [
        "\n",
        "print(transform_val(lambda x : x + 10, d))"
      ]
    },
    {
      "cell_type": "markdown",
      "metadata": {
        "id": "vVpshCZbgB0e"
      },
      "source": [
        "### ex34 (Almost) supervocalic words\n",
        "I want you to write a get_sv function that returns a set of all “supervocalic” words in the dict. Words contain all five vowels in English (a, e, i, o, and u), each of them appearing once and in alphabetical order.\n",
        "For the purposes of this exercise, accepting any word that has all five vowels, in any order and any number of times."
      ]
    },
    {
      "cell_type": "code",
      "execution_count": null,
      "metadata": {
        "id": "buBm_sVXgB0e",
        "outputId": "210c1433-bc08-4043-e31e-e218d103b5ea"
      },
      "outputs": [
        {
          "data": {
            "text/plain": [
              "['Acanthocephaliu', 'superlogical']"
            ]
          },
          "execution_count": 13,
          "metadata": {},
          "output_type": "execute_result"
        }
      ],
      "source": [
        "vowels = {'a','e','i','o','u'}\n",
        "wrd = [\"acanthin\",\"acanthine\",\"acanthion\",\"acanthite\",\"acanthocarpous\",\"Acanthocephaliu\",\"acanthocephalous\", \"superlogical\"]\n",
        "[i for i in wrd if vowels < set(i.lower())]"
      ]
    },
    {
      "cell_type": "markdown",
      "metadata": {
        "id": "0Pcs0aMOgB0e"
      },
      "source": [
        "### ex35a Gematria Part 1\n",
        "create a dict {'a':1,'b':2, ... 'z':26}"
      ]
    },
    {
      "cell_type": "code",
      "execution_count": null,
      "metadata": {
        "id": "5OfwUfLfgB0e"
      },
      "outputs": [],
      "source": [
        "import string\n",
        "#string.ascii_lowercase #returns a-z\n",
        "gematria = {k:v for v, k in enumerate(string.ascii_lowercase,1)}"
      ]
    },
    {
      "cell_type": "code",
      "execution_count": null,
      "metadata": {
        "id": "p00aptYUgB0f",
        "outputId": "f5bdab70-170b-4480-835d-b269a2c3efc6"
      },
      "outputs": [
        {
          "data": {
            "text/plain": [
              "24"
            ]
          },
          "execution_count": 23,
          "metadata": {},
          "output_type": "execute_result"
        }
      ],
      "source": [
        "gematria.get('x',0)"
      ]
    }
  ],
  "metadata": {
    "kernelspec": {
      "display_name": "Python 3",
      "language": "python",
      "name": "python3"
    },
    "language_info": {
      "codemirror_mode": {
        "name": "ipython",
        "version": 3
      },
      "file_extension": ".py",
      "mimetype": "text/x-python",
      "name": "python",
      "nbconvert_exporter": "python",
      "pygments_lexer": "ipython3",
      "version": "3.11.9"
    },
    "orig_nbformat": 4,
    "colab": {
      "provenance": []
    }
  },
  "nbformat": 4,
  "nbformat_minor": 0
}