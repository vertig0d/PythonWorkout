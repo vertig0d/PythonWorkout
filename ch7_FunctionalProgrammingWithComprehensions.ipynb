{ 

"cells": [ 

  { 

   "cell_type": "code", 

   "execution_count": 2, 

   "metadata": {}, 

   "outputs": [ 

    { 

     "data": { 

      "text/plain": [ 

       "[4, 7, 5, 13]" 

      ] 

     }, 

     "execution_count": 2, 

     "metadata": {}, 

     "output_type": "execute_result" 

    } 

   ], 

   "source": [ 

    "s = \"Join Numbers Using Comprehension\"\n", 

    "t = [len(one_word) for one_word in s.split()]\n", 

    "t" 

   ] 

  }, 

  { 

   "cell_type": "markdown", 

   "metadata": {}, 

   "source": [ 

    "Ex28. Join Numbers Using Comprehension" 

   ] 

  }, 

  { 

   "cell_type": "code", 

   "execution_count": 6, 

   "metadata": {}, 

   "outputs": [ 

    { 

     "data": { 

      "text/plain": [ 

       "'0,1,2,3,4,5,6,7,8,9,10,11,12,13,14'" 

      ] 

     }, 

     "execution_count": 6, 

     "metadata": {}, 

     "output_type": "execute_result" 

    } 

   ], 

   "source": [ 

    "','.join(str(i) for i in range(15))" 

   ] 

  }, 

  { 

   "cell_type": "code", 

   "execution_count": 8, 

   "metadata": {}, 

   "outputs": [ 

    { 

     "data": { 

      "text/plain": [ 

       "[0, 4, 16, 36, 64, 100, 144, 196]" 

      ] 

     }, 

     "execution_count": 8, 

     "metadata": {}, 

     "output_type": "execute_result" 

    } 

   ], 

   "source": [ 

    "t = [x*x for x in range(0,15) if x%2 == 0]\n", 

    "t" 

   ] 

  }, 

  { 

   "cell_type": "code", 

   "execution_count": 6, 

   "metadata": {}, 

   "outputs": [ 

    { 

     "data": { 

      "text/plain": [ 

       "4" 

      ] 

     }, 

     "execution_count": 6, 

     "metadata": {}, 

     "output_type": "execute_result" 

    } 

   ], 

   "source": [ 

    "x = [[1,1],[2,3,4],[4],[4,5]]\n", 

    "len(x)" 

   ] 

  }, 

  { 

   "cell_type": "code", 

   "execution_count": 11, 

   "metadata": {}, 

   "outputs": [ 

    { 

     "name": "stdout", 

     "output_type": "stream", 

     "text": [ 

      "24\n" 

     ] 

    } 

   ], 

   "source": [ 

    "wrds = \"just some random words here.\".split()\n", 

    "t = map(len, wrds)\n", 

    "print(sum(t))" 

   ] 

  }, 

  { 

   "cell_type": "markdown", 

   "metadata": {}, 

   "source": [ 

    "all_places = {'USA': ['Philadelphia', 'New York', 'Cleveland', 'San Jose', 'San Francisco'],\n", 

    "     'China': ['Beijing', 'Shanghai', 'Guangzhou'],\n", 

    "     'UK': ['London'],\n", 

    "     'India': ['Hyderabad']}\n", 

    "get only the list of cities" 

   ] 

  }, 

  { 

   "cell_type": "code", 

   "execution_count": 3, 

   "metadata": {}, 

   "outputs": [ 

    { 

     "name": "stdout", 

     "output_type": "stream", 

     "text": [ 

      "Philadelphia New York Cleveland San Jose San Francisco Beijing Shanghai Guangzhou London Hyderabad\n" 

     ] 

    } 

   ], 

   "source": [ 

    "all_places = {'USA': ['Philadelphia', 'New York', 'Cleveland', 'San Jose', 'San Francisco'],\n", 

    "     'China': ['Beijing', 'Shanghai', 'Guangzhou'],\n", 

    "     'UK': ['London'],\n", 

    "     'India': ['Hyderabad']}\n", 

    "t = [one_city for country, city in all_places.items() for one_city in city]\n", 

    "print(*t)" 

   ] 

  }, 

  { 

   "cell_type": "code", 

   "execution_count": 4, 

   "metadata": {}, 

   "outputs": [ 

    { 

     "data": { 

      "text/plain": [ 

       "[('USA', 'Philadelphia'),\n", 

       " ('USA', 'New York'),\n", 

       " ('USA', 'Cleveland'),\n", 

       " ('USA', 'San Jose'),\n", 

       " ('USA', 'San Francisco'),\n", 

       " ('China', 'Beijing'),\n", 

       " ('China', 'Shanghai'),\n", 

       " ('China', 'Guangzhou'),\n", 

       " ('UK', 'London'),\n", 

       " ('India', 'Hyderabad')]" 

      ] 

     }, 

     "execution_count": 4, 

     "metadata": {}, 

     "output_type": "execute_result" 

    } 

   ], 

   "source": [ 

    "s = [(country, one_city) for country, city in all_places.items() for one_city in city]\n", 

    "s" 

   ] 

  }, 

  { 

   "cell_type": "code", 

   "execution_count": 6, 

   "metadata": {}, 

   "outputs": [ 

    { 

     "data": { 

      "text/plain": [ 

       "333333328333333350000000" 

      ] 

     }, 

     "execution_count": 6, 

     "metadata": {}, 

     "output_type": "execute_result" 

    } 

   ], 

   "source": [ 

    "sum([x*x for x in range(100000000)])" 

   ] 

  }, 

  { 

   "cell_type": "code", 

   "execution_count": 7, 

   "metadata": {}, 

   "outputs": [ 

    { 

     "data": { 

      "text/plain": [ 

       "333333328333333350000000" 

      ] 

     }, 

     "execution_count": 7, 

     "metadata": {}, 

     "output_type": "execute_result" 

    } 

   ], 

   "source": [ 

    "sum((x*x for x in range(100000000)))" 

   ] 

  }, 

  { 

   "cell_type": "markdown", 

   "metadata": {}, 

   "source": [ 

    "### Comprehensions: usually of the format- \n", 

    "Expression <br>\n", 

    "Iteration <br>\n", 

    "Filter" 

   ] 

  }, 

  { 

   "cell_type": "code", 

   "execution_count": 1, 

   "metadata": {}, 

   "outputs": [ 

    { 

     "data": { 

      "text/plain": [ 

       "[(1, 0), (1, 1), (1, 2), (1, 3), (1, 4)]" 

      ] 

     }, 

     "execution_count": 1, 

     "metadata": {}, 

     "output_type": "execute_result" 

    } 

   ], 

   "source": [ 

    "[(x,y)\n", 

    "for x in range(5)\n", 

    "if x%2\n", 

    "for y in range(5)\n", 

    "if x%3]" 

   ] 

  }, 

  { 

   "cell_type": "code", 

   "execution_count": 10, 

   "metadata": {}, 

   "outputs": [ 

    { 

     "name": "stdout", 

     "output_type": "stream", 

     "text": [ 

      "1\n", 

      "3\n", 

      "5\n", 

      "7\n", 

      "9\n" 

     ] 

    } 

   ], 

   "source": [ 

    "for x in range(10):\n", 

    "    if x%2:\n", 

    "        print(x)" 

   ] 

  }, 

  { 

   "cell_type": "markdown", 

   "metadata": {}, 

   "source": [ 

    "### ex29 Adding Numbers" 

   ] 

  }, 

  { 

   "cell_type": "code", 

   "execution_count": 4, 

   "metadata": {}, 

   "outputs": [ 

    { 

     "data": { 

      "text/plain": [ 

       "100" 

      ] 

     }, 

     "execution_count": 4, 

     "metadata": {}, 

     "output_type": "execute_result" 

    } 

   ], 

   "source": [ 

    "x = '10 abc 20 de44 30 55fg 40'.split()\n", 

    "sum(int(y) for y in x if y.isdigit())" 

   ] 

  }, 

  { 

   "cell_type": "code", 

   "execution_count": 5, 

   "metadata": {}, 

   "outputs": [ 

    { 

     "data": { 

      "text/plain": [ 

       "[[1, 2], [3, 4]]" 

      ] 

     }, 

     "execution_count": 5, 

     "metadata": {}, 

     "output_type": "execute_result" 

    } 

   ], 

   "source": [ 

    "x = [[1,2], [3,4]]\n" 

   ] 

  }, 

  { 

   "cell_type": "code", 

   "execution_count": null, 

   "metadata": {}, 

   "outputs": [], 

   "source": [] 

  } 

], 

"metadata": { 

  "interpreter": { 

   "hash": "25f03f59e56b5aa48b83b000b9bfd88bfd22e6dd6e80bcee16a399d75bb355a0" 

  }, 

  "kernelspec": { 

   "display_name": "Python 3.11.1 64-bit", 

   "language": "python", 

   "name": "python3" 

  }, 

  "language_info": { 

   "codemirror_mode": { 

    "name": "ipython", 

    "version": 3 

   }, 

   "file_extension": ".py", 

   "mimetype": "text/x-python", 

   "name": "python", 

   "nbconvert_exporter": "python", 

   "pygments_lexer": "ipython3", 

   "version": "3.11.1" 

  }, 

  "orig_nbformat": 4 

}, 

"nbformat": 4, 

"nbformat_minor": 2 

} 

 