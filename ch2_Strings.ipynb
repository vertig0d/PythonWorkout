{ 

"cells": [ 

  { 

   "cell_type": "code", 

   "execution_count": 2, 

   "metadata": {}, 

   "outputs": [ 

    { 

     "data": { 

      "text/plain": [ 

       "True" 

      ] 

     }, 

     "execution_count": 2, 

     "metadata": {}, 

     "output_type": "execute_result" 

    } 

   ], 

   "source": [ 

    "'a' in 'abcdef'" 

   ] 

  }, 

  { 

   "cell_type": "code", 

   "execution_count": 4, 

   "metadata": {}, 

   "outputs": [ 

    { 

     "data": { 

      "text/plain": [ 

       "'bdf'" 

      ] 

     }, 

     "execution_count": 4, 

     "metadata": {}, 

     "output_type": "execute_result" 

    } 

   ], 

   "source": [ 

    "'abcdef'[1::2]" 

   ] 

  }, 

  { 

   "cell_type": "code", 

   "execution_count": 5, 

   "metadata": {}, 

   "outputs": [ 

    { 

     "data": { 

      "text/plain": [ 

       "['abc', 'def', 'ghi']" 

      ] 

     }, 

     "execution_count": 5, 

     "metadata": {}, 

     "output_type": "execute_result" 

    } 

   ], 

   "source": [ 

    "'abc def ghi'.split()" 

   ] 

  }, 

  { 

   "cell_type": "code", 

   "execution_count": 6, 

   "metadata": {}, 

   "outputs": [ 

    { 

     "data": { 

      "text/plain": [ 

       "'a*b*c*d*e*f'" 

      ] 

     }, 

     "execution_count": 6, 

     "metadata": {}, 

     "output_type": "execute_result" 

    } 

   ], 

   "source": [ 

    "'*'.join('abcdef')" 

   ] 

  }, 

  { 

   "cell_type": "markdown", 

   "metadata": {}, 

   "source": [ 

    "Ex 5 Pig Latin" 

   ] 

  }, 

  { 

   "cell_type": "code", 

   "execution_count": 11, 

   "metadata": {}, 

   "outputs": [], 

   "source": [ 

    "def pig_latin(value):\n", 

    "    if value[0] in ('aeiou'):\n", 

    "        return (value + 'way')\n", 

    "    else:\n", 

    "        return (value[1:] + value[0] + 'ay')" 

   ] 

  }, 

  { 

   "cell_type": "code", 

   "execution_count": 11, 

   "metadata": {}, 

   "outputs": [ 

    { 

     "data": { 

      "text/plain": [ 

       "'ythonpway'" 

      ] 

     }, 

     "execution_count": 11, 

     "metadata": {}, 

     "output_type": "execute_result" 

    } 

   ], 

   "source": [ 

    "pig_latin('air')\n", 

    "pig_latin('python')" 

   ] 

  }, 

  { 

   "cell_type": "code", 

   "execution_count": 2, 

   "metadata": {}, 

   "outputs": [ 

    { 

     "name": "stdout", 

     "output_type": "stream", 

     "text": [ 

      "abcd\n" 

     ] 

    } 

   ], 

   "source": [ 

    "s = 'abcd'\n", 

    "t = s\n", 

    "s = '!bcd'\n", 

    "print(t)" 

   ] 

  }, 

  { 

   "cell_type": "markdown", 

   "metadata": {}, 

   "source": [ 

    "Ex 6 Pig Latin Sentence\n", 

    "pl_sentence('this is a test translation')\n", 

    "expected 'histay isway away esttay ranslationtay'" 

   ] 

  }, 

  { 

   "cell_type": "code", 

   "execution_count": 12, 

   "metadata": {}, 

   "outputs": [], 

   "source": [ 

    "def pl_sentence(value):\n", 

    "    t = value.split()\n", 

    "    a = []\n", 

    "    for i in t:\n", 

    "        a.append(pig_latin(i))\n", 

    "    return ' '.join(a)" 

   ] 

  }, 

  { 

   "cell_type": "code", 

   "execution_count": 14, 

   "metadata": {}, 

   "outputs": [ 

    { 

     "name": "stdout", 

     "output_type": "stream", 

     "text": [ 

      "histay isway away esttay ranslationtay\n" 

     ] 

    } 

   ], 

   "source": [ 

    "print(pl_sentence(\"this is a test translation\"))" 

   ] 

  }, 

  { 

   "cell_type": "markdown", 

   "metadata": {}, 

   "source": [ 

    "Ex 7 Ubbi Dubbi\n", 

    "ubbi_dubbi('milk')\n", 

    "expected 'mubilk" 

   ] 

  }, 

  { 

   "cell_type": "code", 

   "execution_count": 17, 

   "metadata": {}, 

   "outputs": [], 

   "source": [ 

    "def ubbi_dubbi(value):\n", 

    "    a = []\n", 

    "    for i in value:\n", 

    "        if i in 'aeiou':\n", 

    "            a.append(f'ub{i}')\n", 

    "        else:\n", 

    "            a.append(i)\n", 

    "    return ''.join(a)" 

   ] 

  }, 

  { 

   "cell_type": "code", 

   "execution_count": 19, 

   "metadata": {}, 

   "outputs": [ 

    { 

     "name": "stdout", 

     "output_type": "stream", 

     "text": [ 

      "pythubon\n" 

     ] 

    } 

   ], 

   "source": [ 

    "print(ubbi_dubbi('python'))" 

   ] 

  }, 

  { 

   "cell_type": "markdown", 

   "metadata": {}, 

   "source": [ 

    "Ex 8. Sorting a String\n", 

    "strsort('cba)\n", 

    "expected 'abc" 

   ] 

  }, 

  { 

   "cell_type": "code", 

   "execution_count": 22, 

   "metadata": {}, 

   "outputs": [], 

   "source": [ 

    "def strsort(value):\n", 

    "    return ''.join(sorted(value))" 

   ] 

  }, 

  { 

   "cell_type": "code", 

   "execution_count": 24, 

   "metadata": {}, 

   "outputs": [ 

    { 

     "name": "stdout", 

     "output_type": "stream", 

     "text": [ 

      "abcefj\n" 

     ] 

    } 

   ], 

   "source": [ 

    "print(strsort('cbjeaf'))" 

   ] 

  } 

], 

"metadata": { 

  "interpreter": { 

   "hash": "25f03f59e56b5aa48b83b000b9bfd88bfd22e6dd6e80bcee16a399d75bb355a0" 

  }, 

  "kernelspec": { 

   "display_name": "Python 3.11.1 64-bit", 

   "language": "python", 

   "name": "python3" 

  }, 

  "language_info": { 

   "codemirror_mode": { 

    "name": "ipython", 

    "version": 3 

   }, 

   "file_extension": ".py", 

   "mimetype": "text/x-python", 

   "name": "python", 

   "nbconvert_exporter": "python", 

   "pygments_lexer": "ipython3", 

   "version": "3.11.1" 

  }, 

  "orig_nbformat": 4 

}, 

"nbformat": 4, 

"nbformat_minor": 2 

} 

 